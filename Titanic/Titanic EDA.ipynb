{
  "cells": [
    {
      "metadata": {
        "_cell_guid": "7e56b906-c325-4fcb-ba27-a9821b960361",
        "_uuid": "af5ea434b6f2c5ab1997b062e6f08773a1961e1c"
      },
      "cell_type": "markdown",
      "source": "# Titanic-Survival : Exploratory Data Analysis & Machine Learning\n\nThe dataset Titanic: Machine Learning from Disaster is an indispensable when you are a newbie in Data Science. This dataset allows you to work on the supervised learning, more preciously a classification problem. It is the reason why I would like to introduce you an analysison this one. \nThe tutorial are going to divide into three parts. The first part are going to focus on the data analysis and the visualisation of the data. With the second one we are going to see the different algorithms used to tackle with our problem. Finally we are going to expose a few hints to improve the model. \n\n## Summary :\n** 1 | Data Analysis and Visualisation**\n* 1.1 Basic information\n* 1.2 Missing values\n* 1.3 Univariate Analysis\n* 1.4 Bivariate Analysis\n* 1.5 Feature engineering\n\n** 2 | Machine Learning**\n* 2.1 Impute missing value\n* 2.2 Encode Categorical features\n* 2.3 Scaling numerical features\n* 2.4 Logistic Regression\n* 2.5 Random Forest\n* 2.6 Svm\n\n**  Conlusion **  \n* How to improve our model\n"
    },
    {
      "metadata": {
        "_cell_guid": "52e991df-bcab-3161-ca51-35cc4fe1974a",
        "_uuid": "c5c2363ae6b044d4a94c98963815a5afecc1bac4",
        "collapsed": true,
        "trusted": false
      },
      "cell_type": "code",
      "source": "# Basics\nimport numpy as np\nimport pandas as pd\n\n# Visualisation\nimport matplotlib.pyplot as plt\nimport seaborn as sns\n\n# Preprocessing\nfrom collections import OrderedDict\nimport missingno as msno\nfrom sklearn.preprocessing import StandardScaler\n\n# Sampling\nfrom sklearn.model_selection import train_test_split\n\n# Classifiier\nfrom sklearn.linear_model import LogisticRegression\nfrom sklearn.ensemble import RandomForestClassifier\nfrom sklearn.svm import SVC\n\n# Metrics\nfrom sklearn.metrics import accuracy_score\n\n%matplotlib inline\nsns.set(color_codes=True)\npal = sns.color_palette(\"Set2\", 10)\nsns.set_palette(pal)\n\nTitanicTrain = pd.read_csv(\"../input/train.csv\")\nTitanicTrain.columns, TitanicTrain.shape ",
      "execution_count": null,
      "outputs": []
    },
    {
      "metadata": {
        "_cell_guid": "1ed3e3b3-c812-41f5-b757-b694d3904b7c",
        "_uuid": "e77eaa1fc9c3fcdb6c06525dc05667e23dbb8ec4"
      },
      "cell_type": "markdown",
      "source": "# 1 | Data Analysis and Visualisation"
    },
    {
      "metadata": {
        "_cell_guid": "e418b642-f605-4a2f-85ae-94f478f13752",
        "_uuid": "b51d897dd4035966575a2f48a604ee24380f4c63"
      },
      "cell_type": "markdown",
      "source": "**About this Dataset and the competition**  \n\nThe dataset has 13 columns with 891 rows. The purpose of this analysis is to test a few models in order to predict if a passenger given of the Titanic has survived or not. So the list of the features that our model will take in input will be [ 'Pclass', 'Name', 'Sex', 'Age', 'SibSp', 'Parch', 'Ticket', 'Fare', 'Cabin', 'Embarked', 'Type'] and the output will be [ 'Survived']. We will usethe feature engineering to create new features starting from the basics features.\n\n**About features**\n\nHere a small description for each features contained in the dataset:\n\n* survival: Survival\t0 = No, 1 = Yes\n* pclass: A proxy for socio-economic status (1st = Upper, 2nd = Middle, 3rd = Lower)\t\n* Ticket class: 1 = 1st, 2 = 2nd, 3 = 3rd\n* sibsp: # of siblings / spouses aboard the Titanic\t\n* parch: # of parents / children aboard the Titanic\t\n* ticket: Ticket number\n* fare: Passenger fare*\n* cabin: Cabin number\t\n* embarked: Port of Embarkation\tC = Cherbourg, Q = Queenstown, S = Southampton\n\nSome children travelled only with a nanny, therefore parch=0 for them.  "
    },
    {
      "metadata": {
        "_cell_guid": "9f249455-81f6-4f4f-bc02-5f2e0c7ae6dd",
        "_uuid": "ee3352b37c38ded7e157293369b46a2c5f3026ec"
      },
      "cell_type": "markdown",
      "source": "** 1.1 Basic information**"
    },
    {
      "metadata": {
        "_cell_guid": "27e60f75-fdb7-4d68-a575-7809692e61b5",
        "_uuid": "535968b93e6b9fdd6f8457598aec0e57df346816",
        "collapsed": true,
        "trusted": false
      },
      "cell_type": "code",
      "source": "TitanicTrain.head(3)",
      "execution_count": null,
      "outputs": []
    },
    {
      "metadata": {
        "_cell_guid": "6cc0d5c3-0a79-47bb-9986-bc8d18ad54d8",
        "_uuid": "a8636c58f4304047e1e6cb989ef603fe8d5dc355",
        "collapsed": true,
        "trusted": false
      },
      "cell_type": "code",
      "source": "TitanicTrain.info()",
      "execution_count": null,
      "outputs": []
    },
    {
      "metadata": {
        "_cell_guid": "c699e2aa-f628-447e-959c-432e4c034944",
        "_uuid": "46ed04046bdb303a76c0c33575146c74ff1fc47f"
      },
      "cell_type": "markdown",
      "source": "The dataset is composed by 2 features float, 5 integer and 6 object. We can see with that there is a few missing values in the columns \"age\". With the function describe we can see that the function count 714 values against 891 for the others."
    },
    {
      "metadata": {
        "_cell_guid": "4578ae98-5597-43cb-a77f-07ff13ba80d1",
        "_uuid": "97a8f38f1b1c7ab5c806526ff611f9113f675532"
      },
      "cell_type": "markdown",
      "source": "**1.2 Missing values**"
    },
    {
      "metadata": {
        "_cell_guid": "88b5052e-770c-47c1-b4a7-dccf095277c8",
        "_uuid": "ce3afcd290405a7b7022b9c2a72be158699e0b6c"
      },
      "cell_type": "markdown",
      "source": "Because we have few features we can use the package missingno which allows you to display the completeness of the dataset. It looks there are a lot of missing values for Age and Cabin and only 2 for Embarked. This is interesting information to impute these missing values later to may be improve our prediction model.\n"
    },
    {
      "metadata": {
        "_cell_guid": "d26c95de-f331-4401-9d7f-7cf05a7b2020",
        "_uuid": "def15ac79dd8b6736f6b7bb7f30b7cfafb6eb76d",
        "collapsed": true,
        "trusted": false
      },
      "cell_type": "code",
      "source": "msno.matrix(TitanicTrain)",
      "execution_count": null,
      "outputs": []
    },
    {
      "metadata": {
        "_cell_guid": "12c7477c-ba29-4f20-a69e-3a13bde1412d",
        "_uuid": "96dccdd15e4c13e5b5424d2356c52b8236146641"
      },
      "cell_type": "markdown",
      "source": "**1.2 Univariate analysis**"
    },
    {
      "metadata": {
        "_cell_guid": "29b54756-d303-4a6c-af7d-43894f6fff6e",
        "_uuid": "8634ca704cbcc2f2675534b80682af5cc3f90f04"
      },
      "cell_type": "markdown",
      "source": "To have a better vision of the data we are going to display our feature with a countplot of seaborn. Show the counts of observations in each categorical bin using bars. The categorical features of our dataset are these are integer and object. We are going to separate our features in two list: categ for the categorical features and conti for the continuous features. The age and the fare are the only two features that we can consider as continuous. In order to plot the distribution of the features with seaborn we use distplot. According to the charts there are no weird values (>100) for \"age\"  but we can see that the feature \"fare\" have a large scale and the most of value are between 0 and 100."
    },
    {
      "metadata": {
        "_cell_guid": "8f3c6671-b33b-46df-a3cd-4ac244a49501",
        "_uuid": "0f4869dce7a3e904b539d3332edbc0d25ac03f88",
        "collapsed": true,
        "trusted": false
      },
      "cell_type": "code",
      "source": "categ =  [ 'Pclass', 'Sex', 'SibSp', 'Parch', 'Embarked']\nconti = ['Fare', 'Age']\n\n#Distribution\nfig = plt.figure(figsize=(30, 10))\nfor i in range (0,len(categ)):\n    fig.add_subplot(3,3,i+1)\n    sns.countplot(x=categ[i], data=TitanicTrain);  \n\nfor col in conti:\n    fig.add_subplot(3,3,i + 2)\n    sns.distplot(TitanicTrain[col].dropna());\n    i += 1\n    \nplt.show()\nfig.clear()",
      "execution_count": null,
      "outputs": []
    },
    {
      "metadata": {
        "_cell_guid": "a3faabf5-1afc-42fb-8af5-f316a63e2622",
        "_uuid": "f4cca3aa71d357ba8bfeb3dea4f2c1620ad4a2ce"
      },
      "cell_type": "markdown",
      "source": "**1.3 Bivariate analysis**"
    },
    {
      "metadata": {
        "_cell_guid": "38baee80-da1c-4912-80ee-c3059cc67df6",
        "_uuid": "ac7b926866bfe0e2f373677fb57eaf40b24f7b7a"
      },
      "cell_type": "markdown",
      "source": "The next charts show us the repartition of survival (and non-survival) for each features categ and conti. We are going to use others kind of charts to display the relation between 'survival\" and our features. It seems that there are lot of \"female\" who have not survived when we take a look at the 6th chart. WIth the boxplot we can see that there are no outliers in the features \"age\" (maybe 3-4 observations which are out of the frame but nothing alarming). As concerning the correlation between the features we  can see that the stronger correlation in absolute with \"survived\" are \"fare\" and \"pclass\". The fact of \"fare\" and \"pclass\" have a strong correlation in absolute is consistent and it shows that a priori the people with the upper class spend more money (to have a better place)."
    },
    {
      "metadata": {
        "_cell_guid": "c0042fd8-8c4b-4cd0-ab00-1742809cc93d",
        "_uuid": "2f95e0254d7773c7abe2fc99da8582e49b21d0ce",
        "collapsed": true,
        "trusted": false
      },
      "cell_type": "code",
      "source": "fig = plt.figure(figsize=(30, 10))\ni = 1\nfor col in categ:\n    if col != 'Survived':\n        fig.add_subplot(3,3,i)\n        sns.countplot(x=col, data=TitanicTrain,hue='Survived');\n        i += 1\n\n# Box plot survived x age\nfig.add_subplot(3,3,6)\nsns.swarmplot(x=\"Survived\", y=\"Age\", hue=\"Sex\", data=TitanicTrain);\nfig.add_subplot(3,3,7)\nsns.boxplot(x=\"Survived\", y=\"Age\", data=TitanicTrain)\n\n# fare and Survived\nfig.add_subplot(3,3,8)\nsns.violinplot(x=\"Survived\", y=\"Fare\", data=TitanicTrain)\n\n# correlations with the new features\ncorr = TitanicTrain.drop(['PassengerId'], axis=1).corr()\nmask = np.zeros_like(corr, dtype=np.bool)\nmask[np.triu_indices_from(mask)] = True\ncmap = sns.diverging_palette(220, 10, as_cmap=True)\nfig.add_subplot(3,3,9)\nsns.heatmap(corr, mask=mask, cmap=cmap, cbar_kws={\"shrink\": .5})\nplt.show()\nfig.clear()",
      "execution_count": null,
      "outputs": []
    },
    {
      "metadata": {
        "_cell_guid": "d14f2e2e-ab37-4cde-b2fc-d277a3b3d161",
        "_uuid": "75101bb01936f8a83cc2edbb605fd8bfa852edf1"
      },
      "cell_type": "markdown",
      "source": "** 2.4 Feature engineering**"
    },
    {
      "metadata": {
        "_cell_guid": "40700d23-bd61-493e-9d6e-de79ffd3e04e",
        "_uuid": "09ba4c2a658cb4fb3cced1a69be2fcb57b0c8a8f"
      },
      "cell_type": "markdown",
      "source": "We going to create one new feature from the dataset to see if they can more explain why a passenger survived or not. It is possible to create lot of  new features with this data. But we are going to exploit the data that we can find through the title. I advise you to implement a first model (Quick & Dirty model) before the creation of new features. It is not always interesting to create a new features so you must quantify (with the metrics) if the creation has a positive impact on your model. In this example we start from the assumption that the new feature have a positive impact. We are not sure that the \"Title\" feature give more information than the sex feature ! "
    },
    {
      "metadata": {
        "_cell_guid": "0e745649-9c22-4577-a599-1255a786dd87",
        "_uuid": "3b30fd6259cef2baf7761f9d9ce43495fa860378",
        "collapsed": true,
        "trusted": false
      },
      "cell_type": "code",
      "source": "title = ['Mlle','Mrs', 'Mr', 'Miss','Master','Don','Rev','Dr','Mme','Ms','Major','Col','Capt','Countess']\n\ndef ExtractTitle(name):\n    tit = 'missing'\n    for item in title :\n        if item in name:\n            tit = item\n    if tit == 'missing':\n        tit = 'Mr'\n    return tit\n\nTitanicTrain[\"Title\"] = TitanicTrain.apply(lambda row: ExtractTitle(row[\"Name\"]),axis=1)\nplt.figure(figsize=(13, 5))\nfig.add_subplot(2,1,1)\nsns.countplot(x='Title', data=TitanicTrain,hue='Survived');",
      "execution_count": null,
      "outputs": []
    },
    {
      "metadata": {
        "_cell_guid": "6dca88ed-706d-4e6a-bd70-5818a54472bc",
        "_uuid": "6e64f34db51d844f2fd1f9636ac33c6303233073"
      },
      "cell_type": "markdown",
      "source": "# 2 | Machine Learning\nNow we are going to pass at the part of Machine Learning. Within this part we are just tested few models. I will expose you a good way to do a robust cross validation through another tutorial. In this example we will implement a basic sampling (70% train vs 30% test). Yet it is not the better way to implement a robust model. Contrary a robust validation this kind of of sampling can bring the overfitting in your model. Keep in mind it is just a \"getting started\".\n\n**2.1 Impute missing values**"
    },
    {
      "metadata": {
        "_cell_guid": "73c54c01-0ac7-4c64-b98d-f16affcace8a",
        "_uuid": "1cde5bb6769d056e41f456bd0fd7333b99fbd89b"
      },
      "cell_type": "markdown",
      "source": "In the first part we have already seen that there are missing values. In generale rules a good imputation is the median (for the numerical features). Yet it is the same thing that the feature engineering: It will be more interesting if you can test different imputations and find the values with the best impact on your metrics. The median is a simple method and you can implement a machine learning method to impute the missing values. For the categorical features we are imputed the missing values by the most frequent values."
    },
    {
      "metadata": {
        "_cell_guid": "5052d6c5-c192-44a0-948b-1a87c8104c04",
        "_uuid": "27904db549438ed7aa01aaef74a6f4143ecb2328",
        "collapsed": true,
        "trusted": false
      },
      "cell_type": "code",
      "source": "# Age\nMedianAge = TitanicTrain.Age.median()\nTitanicTrain.Age = TitanicTrain.Age.fillna(value=MedianAge)\n# Embarked replace NaN with the mode value\nModeEmbarked = TitanicTrain.Embarked.mode()[0]\nTitanicTrain.Embarked = TitanicTrain.Embarked.fillna(value=ModeEmbarked)\n# Fare have 1 NaN missing value on the Submission dataset\nMedianFare = TitanicTrain.Fare.median()\nTitanicTrain.Fare = TitanicTrain.Fare.fillna(value=MedianFare)",
      "execution_count": null,
      "outputs": []
    },
    {
      "metadata": {
        "_cell_guid": "47a5d269-f6f1-42ab-9304-ee027412d24d",
        "_uuid": "0f6bb08d0081bb11d2bf89cbe0563eb23d910880"
      },
      "cell_type": "markdown",
      "source": "**2.2 Encode Categorical Features**"
    },
    {
      "metadata": {
        "_cell_guid": "0b331d0f-1495-4dc6-8625-f6af45f9e4c2",
        "_uuid": "b9af0e7dea44aed2bd5e0f99207c429de7fa7753"
      },
      "cell_type": "markdown",
      "source": "Another important part of the preprocessing is the processing of categorcial features. There are several ways to do that and certains are more suited if there are several categories through the features (Entity Embeddings). In our case we are going to use the function get_dummies which allow you to transform the categorical features in binary features for each categorie. You can try the function OneHotEncoder of sklearn to do the same thing. In our example there are several values for the features cabin, so we have decided to binarize this one in order to use get_dummies. The function get_dummies is not recommended if your categorical features have too many categories."
    },
    {
      "metadata": {
        "_cell_guid": "d2e26e51-f9d6-4a66-a092-24075c8c3304",
        "_uuid": "707efc186afab75bcae605ef15fdf2bd64e77d21",
        "collapsed": true,
        "trusted": false
      },
      "cell_type": "code",
      "source": "# Cabin\nTitanicTrain[\"Cabin\"] = TitanicTrain.apply(lambda obs: \"No\" if pd.isnull(obs['Cabin']) else \"Yes\", axis=1)\nTitanicTrain = pd.get_dummies(TitanicTrain,drop_first=True,columns=['Sex','Title','Cabin','Embarked'])",
      "execution_count": null,
      "outputs": []
    },
    {
      "metadata": {
        "_cell_guid": "3035dc8e-6387-4191-b358-5d0527166840",
        "_uuid": "21e229523be23f2e449bcbc75163443e8613bf6f"
      },
      "cell_type": "markdown",
      "source": "**2.3 Scaling numerical features**"
    },
    {
      "metadata": {
        "_cell_guid": "36bee85f-6e3c-46a8-a23e-afd50d47ccc1",
        "_uuid": "7a203dc9afde69fc22c89774626c9efad3bc90c5"
      },
      "cell_type": "markdown",
      "source": "The final part of our preprocessing ! The goal of this one is to rescale the numerical features. You can find lot of method through this link http://scikit-learn.org/stable/modules/classes.html#module-sklearn.preprocessing. We are used a simple method for the feature Fare and Age."
    },
    {
      "metadata": {
        "_cell_guid": "47ce7115-b5a3-4032-a66d-173e84f33636",
        "_uuid": "d0e32fe163e1f4f0e58b72aefea2f9d7c39e0177",
        "collapsed": true,
        "trusted": false
      },
      "cell_type": "code",
      "source": "scale = StandardScaler().fit(TitanicTrain[['Age', 'Fare']])\nTitanicTrain[['Age', 'Fare']] = scale.transform(TitanicTrain[['Age', 'Fare']])",
      "execution_count": null,
      "outputs": []
    },
    {
      "metadata": {
        "_cell_guid": "ab36b9c8-75ea-4cab-9179-5ce837834df2",
        "_uuid": "230769b6193cd3cccb9e0df773563b51e10fe36e",
        "collapsed": true,
        "trusted": false
      },
      "cell_type": "code",
      "source": "Target = TitanicTrain.Survived\nFeatures = TitanicTrain.drop(['Survived','Name','Ticket','PassengerId'],axis=1)\n\n# Create training and test sets\nX_train, X_test, y_train, y_test = train_test_split(Features, Target, test_size = 0.3, random_state=42)\nTarget = TitanicTrain.Survived\n\nMlRes= {}\ndef MlResult(model,score):\n    MlRes[model] = score\n    print(MlRes)\n    \nroc_curve_data = {}\ndef ConcatRocData(algoname, fpr, tpr, auc):\n    data = [fpr, tpr, auc]\n    roc_curve_data[algoname] = data    ",
      "execution_count": null,
      "outputs": []
    },
    {
      "metadata": {
        "_cell_guid": "2b2f7e7a-9077-4590-a09e-0b8ca1258bda",
        "_uuid": "4dce2ce2f4130aeed2acd7c4b1517783c808d464"
      },
      "cell_type": "markdown",
      "source": "**2.4 Logistic Regression Classifier**"
    },
    {
      "metadata": {
        "_cell_guid": "35dcfac1-28b9-46c5-a8c7-e27bef71d3f8",
        "_uuid": "67790c1bf392422a2375e26f54daf37568581d59",
        "collapsed": true,
        "trusted": false
      },
      "cell_type": "code",
      "source": "# Logistic Regression : \nlogi_reg = LogisticRegression()\n# Fit the regressor to the training data\nlogi_reg.fit(X_train, y_train)\n# Predict on the test data: y_pred\ny_pred = logi_reg.predict(X_test)\n\n# Score / Metrics\naccuracy = logi_reg.score(X_test, y_test)\nMlResult('Logistic Regression',accuracy)",
      "execution_count": null,
      "outputs": []
    },
    {
      "metadata": {
        "_cell_guid": "fc3b37bd-5151-4246-a826-c60e449bfbb5",
        "_uuid": "5c04565feaf5e0c8f41ad08c34fc2b34b9bffff2"
      },
      "cell_type": "markdown",
      "source": "**2.5 Random Forest Classifier**"
    },
    {
      "metadata": {
        "_cell_guid": "1cb8d609-9481-44a9-bbdf-9d95ddfd0907",
        "_uuid": "af0e18b0c72cdb969c8e001524a490738bca1c94",
        "collapsed": true,
        "trusted": false
      },
      "cell_type": "code",
      "source": "# Create a random Forest Classifier instance\nrfc = RandomForestClassifier(n_estimators = 100)\n# Fit to the training data\nrfc.fit(X_train, y_train)\n# Predict on the test data: y_pred\ny_pred = rfc.predict(X_test)\n\n# Score / Metrics\naccuracy = rfc.score(X_test, y_test) # = accuracy\nMlResult('Random Forest',accuracy)",
      "execution_count": null,
      "outputs": []
    },
    {
      "metadata": {
        "_cell_guid": "0c7619d4-e66c-4ff4-9022-4632261d1cae",
        "_uuid": "afd1777574d63f8aabdf46045080be18c026c71f",
        "collapsed": true,
        "trusted": false
      },
      "cell_type": "code",
      "source": "#Features importance\ndef FeaturesImportance(data,model):\n    features = data.columns.tolist()\n    fi = model.feature_importances_\n    sorted_features = {}\n    for feature, imp in zip(features, fi):\n        sorted_features[feature] = round(imp,3)\n\n    # sort the dictionnary by value\n    sorted_features = OrderedDict(sorted(sorted_features.items(),reverse=True, key=lambda t: t[1]))\n\n    #for feature, imp in sorted_features.items():\n        #print(feature+\" : \",imp)\n\n    dfvi = pd.DataFrame(list(sorted_features.items()), columns=['Features', 'Importance'])\n    #dfvi.head()\n    plt.figure(figsize=(15, 5))\n    sns.barplot(x='Features', y='Importance', data=dfvi);\n    plt.xticks(rotation=90) \n    plt.show()\n    \n#Features importance\nFeaturesImportance(TitanicTrain,rfc)",
      "execution_count": null,
      "outputs": []
    },
    {
      "metadata": {
        "_cell_guid": "17d3c286-dfc9-4733-9924-b5dd72234e34",
        "_uuid": "f42d8324b4d27f398dbcaec410fd0bab5b12d7a1"
      },
      "cell_type": "markdown",
      "source": "**2.6 Support Vector Machines (SVM)**"
    },
    {
      "metadata": {
        "_cell_guid": "78939d08-0f59-48e8-bab4-09061ecdfaaf",
        "_uuid": "96f8970c1daba7d210d0d31d3a200bb774a70556",
        "collapsed": true,
        "trusted": false
      },
      "cell_type": "code",
      "source": "svm = SVC(probability=True)\n# Fit to the training data\nsvm.fit(X_train, y_train)\n# Predict on the test data: y_pred\ny_pred = svm.predict(X_test)\n\n# Score / Metrics\naccuracy = svm.score(X_test, y_test) # = accuracy\nMlResult('SVC',accuracy)",
      "execution_count": null,
      "outputs": []
    },
    {
      "metadata": {
        "_cell_guid": "29e1b920-1cf6-4d5c-8f0f-d58d74534e27",
        "_uuid": "db14e07bcdb06b0453249f16eae4c07cc4451360"
      },
      "cell_type": "markdown",
      "source": "**Conclusion :**"
    },
    {
      "metadata": {
        "_cell_guid": "5c27a951-9318-4850-a227-19a5a7076851",
        "_uuid": "7252f30638e49ca3b3a07e18f063f8ee7f202992",
        "collapsed": true,
        "trusted": false
      },
      "cell_type": "code",
      "source": "# print score for each model\n#for algo,score in MlRes.items():\n#    print(algo+\" : {}\".format(round(score,3)))\nres = pd.DataFrame(list(MlRes.items()), columns=['Model', 'Score']).sort_values(\"Score\", ascending=False)\nprint(res)",
      "execution_count": null,
      "outputs": []
    },
    {
      "metadata": {
        "_cell_guid": "66e679f8-3092-46fb-ab4a-63839b47af64",
        "_uuid": "c5d5c5cfb0d89283b985cbd4d9615973e46291ed",
        "collapsed": true,
        "trusted": false
      },
      "cell_type": "code",
      "source": "plt.figure(figsize=(8, 5))\nsns.barplot(x='Score', y='Model', data=res);\nplt.xticks(rotation=90) \nplt.xlim([0.6, 0.9])\nplt.show()",
      "execution_count": null,
      "outputs": []
    },
    {
      "metadata": {
        "_cell_guid": "c6b0c69b-6f7b-4295-9f9c-620cec4ba035",
        "_uuid": "91e4e8f7ad77c010696b710ecf4ed3623b9f7cb1"
      },
      "cell_type": "markdown",
      "source": "Like we have said previously it is possible to improve our code with several tasks for example it will be good to use a robust cross validation (to reduce the variance and don't overfit), it would be nice to reduce the number of features. As you can see some features have a zero importance. We can also tune parameters for each model. and so on.."
    }
  ],
  "metadata": {
    "_is_fork": false,
    "_change_revision": 0,
    "language_info": {
      "name": "python",
      "version": "3.6.4",
      "pygments_lexer": "ipython3",
      "file_extension": ".py",
      "nbconvert_exporter": "python",
      "mimetype": "text/x-python",
      "codemirror_mode": {
        "name": "ipython",
        "version": 3
      }
    },
    "kernelspec": {
      "display_name": "Python 3",
      "language": "python",
      "name": "python3"
    }
  },
  "nbformat": 4,
  "nbformat_minor": 1
}