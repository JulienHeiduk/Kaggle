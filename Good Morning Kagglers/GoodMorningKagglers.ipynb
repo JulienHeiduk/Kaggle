{
  "cells": [
    {
      "metadata": {
        "_uuid": "36041b7806d9c477c0b605353edc718e88edd884",
        "_cell_guid": "f67b6c53-60ab-43f7-89ac-f7f5fa794e0e"
      },
      "cell_type": "markdown",
      "source": "# Tweeter Analysis Good Morning Kagglers !\n\nThroughout this analysis we are going to see how to work with the tweeter's data. For that purpose I am divided this analysis into four parts.:\n\n    1. Importation & cleaning\n    2. Visualisation with WordCloud\n    3. Tweet's sources\n    4. Sentiment analysis\n "
    },
    {
      "metadata": {
        "_uuid": "c2fc3be47cb53a444300301878634c2d39deee03",
        "_cell_guid": "921e8993-f13b-4aef-8865-70f05321e8c5"
      },
      "cell_type": "markdown",
      "source": "# 1. Importation & cleaning\n\nIn this section we are going to focus on the most important part of the analysis. In general rule the tweet are composed by several string that we have to clean before working correctly with the data. I have separated the importation of package into four parts. Usually numpy and pandas  are part of our toolbox. \n\nFor the visualisation we use [Seaborn](https://seaborn.pydata.org/), [Matplotlib](https://matplotlib.org/), [Basemap](https://matplotlib.org/basemap/) and finall [word_cloud](https://github.com/amueller/word_cloud).\nIn order to clean our data (Text) and sentiment analysis the most common library is [NLTK](https://www.nltk.org/). NLTK is a leading platform Python programs to workin with human language data. It exists another Natural Language Toolkit ([gensim](https://radimrehurek.com/gensim/)) but in our case it is not necessary to use it.\n\nThe data with which are going to work is a list of tweets with the hashtag #goodmorning.\n"
    },
    {
      "metadata": {
        "_uuid": "b46b2076bb4cda48c2adfa0d18bb8c16c7e0ddcf",
        "_cell_guid": "ece13630-f5c0-da94-ab2a-42bf6dd68f50",
        "trusted": true
      },
      "cell_type": "code",
      "source": "import numpy as np\nimport pandas as pd\nimport re\nimport warnings\n\n#Visualisation\nimport matplotlib.pyplot as plt\nimport matplotlib\nimport seaborn as sns\nfrom IPython.display import display\nfrom mpl_toolkits.basemap import Basemap\nfrom wordcloud import WordCloud, STOPWORDS\n\n#nltk\nfrom nltk.stem import WordNetLemmatizer\nfrom nltk.sentiment.vader import SentimentIntensityAnalyzer\nfrom nltk.sentiment.util import *\nfrom nltk import tokenize\n\n#sklearn\nfrom sklearn.feature_extraction.text import TfidfVectorizer\nfrom sklearn.cluster import KMeans\nfrom sklearn.metrics.pairwise import cosine_similarity\nfrom sklearn.decomposition import PCA\n\nmatplotlib.style.use('ggplot')\npd.options.mode.chained_assignment = None\nwarnings.filterwarnings(\"ignore\")\n\n%matplotlib inline\n\n#Getting data\ntweets = pd.read_csv('../input/tweets_all.csv', encoding = \"ISO-8859-1\")\ndisplay(tweets.head(3))",
      "execution_count": 2,
      "outputs": [
        {
          "output_type": "stream",
          "text": "/opt/conda/lib/python3.6/site-packages/nltk/twitter/__init__.py:20: UserWarning: The twython library has not been installed. Some functionality from the twitter package will not be available.\n  warnings.warn(\"The twython library has not been installed. \"\n",
          "name": "stderr"
        },
        {
          "output_type": "display_data",
          "data": {
            "text/plain": "   Unnamed: 0                                               text  \\\n0           7  Good morning. \\r\\n#njspots #toxictins #njshoot...   \n1          15  @DinaPugliese Good morning Dina :) Have a terr...   \n2          18    #good morning everyone. https://t.co/u6W1jI4tKz   \n\n   retweet_count  favorited  truncated              id_str  \\\n0              0      False      False  806435522684063744   \n1              0      False      False  806435535132721152   \n2              0      False      False  806435538928594944   \n\n  in_reply_to_screen_name                                             source  \\\n0                     NaN  <a href=\"http://instagram.com\" rel=\"nofollow\">...   \n1            DinaPugliese  <a href=\"http://twitter.com/download/android\" ...   \n2                     NaN  <a href=\"http://twitter.com/download/android\" ...   \n\n   retweeted                      created_at           ...             \\\n0      False  Wed Dec 07 09:49:46 +0000 2016           ...              \n1      False  Wed Dec 07 09:49:49 +0000 2016           ...              \n2      False  Wed Dec 07 09:49:49 +0000 2016           ...              \n\n   place_type          full_name place_name  place_id  place_lat  place_lon  \\\n0        city    Mercerville, NJ        NaN       NaN  40.227928 -74.703982   \n1        city  Cochrane, Ontario        NaN       NaN  49.145331 -81.073921   \n2        city       Lawrence, IN        NaN       NaN  39.870397 -85.996819   \n\n         lat        lon            expanded_url                      url  \n0  40.236494 -74.717857  http://fb.me/1vMVgkYg7  https://t.co/q7R11FO1eU  \n1        NaN        NaN                     NaN                      NaN  \n2        NaN        NaN                     NaN                      NaN  \n\n[3 rows x 43 columns]",
            "text/html": "<div>\n<style scoped>\n    .dataframe tbody tr th:only-of-type {\n        vertical-align: middle;\n    }\n\n    .dataframe tbody tr th {\n        vertical-align: top;\n    }\n\n    .dataframe thead th {\n        text-align: right;\n    }\n</style>\n<table border=\"1\" class=\"dataframe\">\n  <thead>\n    <tr style=\"text-align: right;\">\n      <th></th>\n      <th>Unnamed: 0</th>\n      <th>text</th>\n      <th>retweet_count</th>\n      <th>favorited</th>\n      <th>truncated</th>\n      <th>id_str</th>\n      <th>in_reply_to_screen_name</th>\n      <th>source</th>\n      <th>retweeted</th>\n      <th>created_at</th>\n      <th>...</th>\n      <th>place_type</th>\n      <th>full_name</th>\n      <th>place_name</th>\n      <th>place_id</th>\n      <th>place_lat</th>\n      <th>place_lon</th>\n      <th>lat</th>\n      <th>lon</th>\n      <th>expanded_url</th>\n      <th>url</th>\n    </tr>\n  </thead>\n  <tbody>\n    <tr>\n      <th>0</th>\n      <td>7</td>\n      <td>Good morning. \\r\\n#njspots #toxictins #njshoot...</td>\n      <td>0</td>\n      <td>False</td>\n      <td>False</td>\n      <td>806435522684063744</td>\n      <td>NaN</td>\n      <td>&lt;a href=\"http://instagram.com\" rel=\"nofollow\"&gt;...</td>\n      <td>False</td>\n      <td>Wed Dec 07 09:49:46 +0000 2016</td>\n      <td>...</td>\n      <td>city</td>\n      <td>Mercerville, NJ</td>\n      <td>NaN</td>\n      <td>NaN</td>\n      <td>40.227928</td>\n      <td>-74.703982</td>\n      <td>40.236494</td>\n      <td>-74.717857</td>\n      <td>http://fb.me/1vMVgkYg7</td>\n      <td>https://t.co/q7R11FO1eU</td>\n    </tr>\n    <tr>\n      <th>1</th>\n      <td>15</td>\n      <td>@DinaPugliese Good morning Dina :) Have a terr...</td>\n      <td>0</td>\n      <td>False</td>\n      <td>False</td>\n      <td>806435535132721152</td>\n      <td>DinaPugliese</td>\n      <td>&lt;a href=\"http://twitter.com/download/android\" ...</td>\n      <td>False</td>\n      <td>Wed Dec 07 09:49:49 +0000 2016</td>\n      <td>...</td>\n      <td>city</td>\n      <td>Cochrane, Ontario</td>\n      <td>NaN</td>\n      <td>NaN</td>\n      <td>49.145331</td>\n      <td>-81.073921</td>\n      <td>NaN</td>\n      <td>NaN</td>\n      <td>NaN</td>\n      <td>NaN</td>\n    </tr>\n    <tr>\n      <th>2</th>\n      <td>18</td>\n      <td>#good morning everyone. https://t.co/u6W1jI4tKz</td>\n      <td>0</td>\n      <td>False</td>\n      <td>False</td>\n      <td>806435538928594944</td>\n      <td>NaN</td>\n      <td>&lt;a href=\"http://twitter.com/download/android\" ...</td>\n      <td>False</td>\n      <td>Wed Dec 07 09:49:49 +0000 2016</td>\n      <td>...</td>\n      <td>city</td>\n      <td>Lawrence, IN</td>\n      <td>NaN</td>\n      <td>NaN</td>\n      <td>39.870397</td>\n      <td>-85.996819</td>\n      <td>NaN</td>\n      <td>NaN</td>\n      <td>NaN</td>\n      <td>NaN</td>\n    </tr>\n  </tbody>\n</table>\n<p>3 rows × 43 columns</p>\n</div>"
          },
          "metadata": {}
        }
      ]
    },
    {
      "metadata": {
        "_uuid": "90d7feb484c5d20faea486a564e2293dab601997",
        "_cell_guid": "dd081a6c-73ec-4e4d-a32b-a7be1c5ca68a"
      },
      "cell_type": "markdown",
      "source": "The data is composed by 43 columns. But only few columns will be concerned by our analysis. In this analysis we are kept the column \"text\" which contains the tweet, the column \"country\" which contains the user's country, the column \"source\" which contains the user's device and finally the twos columns \"place_lon\", \"place_lat\" which contains the longitude and the latitude of the user."
    },
    {
      "metadata": {
        "_uuid": "b978ae05be98bc2218599e41070cd768b00bdca8",
        "_cell_guid": "fca6cca5-b9f9-4652-9675-4484dbb74a8e",
        "_kg_hide-output": true,
        "_kg_hide-input": true,
        "trusted": false,
        "collapsed": true
      },
      "cell_type": "code",
      "source": "tweets.columns",
      "execution_count": null,
      "outputs": []
    },
    {
      "metadata": {
        "_uuid": "54d8fe79513a88eec14f59cbaf8f1461d55b6ce1",
        "_cell_guid": "0526a9c7-c347-49f3-903d-baead7028c59"
      },
      "cell_type": "markdown",
      "source": "Here an example of the first column whereby we are going to start."
    },
    {
      "metadata": {
        "_uuid": "303707d6c2907b5cf2df379af2469d1f89a30ba1",
        "_cell_guid": "9fd4e50a-b5d9-4805-8d85-fbe287a8ab47",
        "trusted": false,
        "collapsed": true
      },
      "cell_type": "code",
      "source": "tweets['text'][1]",
      "execution_count": null,
      "outputs": []
    },
    {
      "metadata": {
        "_uuid": "3ed6d16b64b83f3ba863bb4de886408bb4631232",
        "_cell_guid": "af23be5c-1926-40d1-8b93-f16f91e9b3a8"
      },
      "cell_type": "markdown",
      "source": "You can see that in the first tweet we can find an URL, punctuations and a username of one tweetos (preceded by @). Before the data visualisation or the sentiment analysis it is necessary to clean the data. Delete the punctiuaton, the URL, put the test in a lower case, extract the username for example. It is possible to add more steps but in our case it won't be useful.\n\nFor the first step we are going to extract the username through the tweets (preceded by @ or by RT @). We keep this information in the column \"tweetos\"."
    },
    {
      "metadata": {
        "_uuid": "a4ee52ae5922e23e8a077b5c4156b7a281c3a942",
        "_cell_guid": "84af962d-0e74-8421-5c61-3320751a02b6",
        "collapsed": true,
        "trusted": false
      },
      "cell_type": "code",
      "source": "#Preprocessing del RT @blablabla:\ntweets['tweetos'] = '' \n\n#add tweetos first part\nfor i in range(len(tweets['text'])):\n    try:\n        tweets['tweetos'][i] = tweets['text'].str.split(' ')[i][0]\n    except AttributeError:    \n        tweets['tweetos'][i] = 'other'\n\n#Preprocessing tweetos. select tweetos contains 'RT @'\nfor i in range(len(tweets['text'])):\n    if tweets['tweetos'].str.contains('@')[i]  == False:\n        tweets['tweetos'][i] = 'other'\n        \n# remove URLs, RTs, and twitter handles\nfor i in range(len(tweets['text'])):\n    tweets['text'][i] = \" \".join([word for word in tweets['text'][i].split()\n                                if 'http' not in word and '@' not in word and '<' not in word])",
      "execution_count": null,
      "outputs": []
    },
    {
      "metadata": {
        "_uuid": "f9df7c197288089a27ac9b973499e9cf75b3a4db",
        "_cell_guid": "17256796-b1fd-49a8-b56d-59e01d90b2b2",
        "trusted": false,
        "collapsed": true
      },
      "cell_type": "code",
      "source": "tweets['text'][1]",
      "execution_count": null,
      "outputs": []
    },
    {
      "metadata": {
        "_uuid": "4db2948bf12b84a526e22b5ba0798ce7a5cbc170",
        "_cell_guid": "12fcc568-26a2-40c3-a3d6-5f95a13c41f6"
      },
      "cell_type": "markdown",
      "source": "We can see that the first step of the cleaning it well done ! The username and the URL are deleteed correctly. Now we are going to delete certains punctuations, put the text in lower case and delete the double espace with the function apply."
    },
    {
      "metadata": {
        "_uuid": "00e078fe6af86f8ce5b33400ebb8fd50f7602e6f",
        "_cell_guid": "c54ef7a0-57bb-4f8d-b6ab-d11e129cddc3",
        "trusted": false,
        "collapsed": true
      },
      "cell_type": "code",
      "source": "tweets['text'] = tweets['text'].apply(lambda x: re.sub('[!@#$:).;,?&]', '', x.lower()))\ntweets['text'] = tweets['text'].apply(lambda x: re.sub('  ', ' ', x))",
      "execution_count": null,
      "outputs": []
    },
    {
      "metadata": {
        "_uuid": "7c2004743487dfcce4593167473b5fc5b419b103",
        "_cell_guid": "5ef18502-5c2c-414e-adf4-e0e6f1a09297",
        "trusted": false,
        "collapsed": true
      },
      "cell_type": "code",
      "source": "tweets['text'][1]",
      "execution_count": null,
      "outputs": []
    },
    {
      "metadata": {
        "_uuid": "894f58f38b356f7ce0d956da0f9aeaea2211450e",
        "_cell_guid": "809139bc-8fe2-4bc3-9f13-7e2aa60de984"
      },
      "cell_type": "markdown",
      "source": "All step completed ! We have the tweets cleaned. Now we are going to do the second part."
    },
    {
      "metadata": {
        "_uuid": "f11469a4143591b902f3b47a170da06259cd1923",
        "_cell_guid": "dfc1cf06-f69d-4090-a23a-e5038beb3ac2"
      },
      "cell_type": "markdown",
      "source": "# 2. Visualisation with WordCloud"
    },
    {
      "metadata": {
        "_uuid": "dbf4a8d29b11f8b30b9007dabf3c624023b30399",
        "_cell_guid": "b06aada1-677a-466f-b982-3683618be0dc"
      },
      "cell_type": "markdown",
      "source": "Throughout this part we are going to focus on the kind of  data visualisation word cloud. It always interesting to do this kind of viz in order to have a global vision of the data.  The visualisation are going to do with the column \"text\" and \"country\"."
    },
    {
      "metadata": {
        "_uuid": "0a62d6a311af6cdfebd9dc7a59ff2f179bf11ba0",
        "_cell_guid": "0dcaf12b-aa55-4400-866a-cb5550a655be",
        "collapsed": true,
        "trusted": false
      },
      "cell_type": "code",
      "source": "def wordcloud(tweets,col):\n    stopwords = set(STOPWORDS)\n    wordcloud = WordCloud(background_color=\"white\",stopwords=stopwords,random_state = 2016).generate(\" \".join([i for i in tweets[col]]))\n    plt.figure( figsize=(20,10), facecolor='k')\n    plt.imshow(wordcloud)\n    plt.axis(\"off\")\n    plt.title(\"Good Morning Datascience+\")",
      "execution_count": null,
      "outputs": []
    },
    {
      "metadata": {
        "_uuid": "a7128c50d4ce6876ed3c2fe24aa4f688d45990b9",
        "_cell_guid": "28be4c82-63a1-4dc7-6058-5cb2fed74861",
        "trusted": false,
        "collapsed": true
      },
      "cell_type": "code",
      "source": "wordcloud(tweets,'text')  ",
      "execution_count": null,
      "outputs": []
    },
    {
      "metadata": {
        "_uuid": "d023b313e0ef857b6061ffc8d46b2ac9c722a9b4",
        "_cell_guid": "f896195b-1e05-4a27-89a0-3ee27dcffb10",
        "collapsed": true,
        "trusted": false
      },
      "cell_type": "code",
      "source": "tweets['country'] = tweets['country'].apply(lambda x: x.lower())\ntweets['country'].replace('states united','united states',inplace=True)\ntweets['country'].replace('united states','usa',inplace=True)\ntweets['country'].replace('united Kingdom','uk',inplace=True)\ntweets['country'].replace('republic philippines','philippines republic',inplace=True)",
      "execution_count": null,
      "outputs": []
    },
    {
      "metadata": {
        "_uuid": "869922d30eaf13dd6416494c3dd8eec44c3e6d74",
        "_cell_guid": "915f9a5a-4a57-b875-3612-960f8a23dba4",
        "trusted": false,
        "collapsed": true
      },
      "cell_type": "code",
      "source": "wordcloud(tweets, 'country')  ",
      "execution_count": null,
      "outputs": []
    },
    {
      "metadata": {
        "_uuid": "62aa4a7435dc8a70706cdc78c60de2a6639b0d17",
        "_cell_guid": "bc8af6bb-da98-4024-a93f-5fdb66f49771"
      },
      "cell_type": "markdown",
      "source": "The most of tweets contains the wordd \"good morning\" (it is not surprising because the tweet are selected with the hashtag #goodmorning), photography, godd day, sunrise and so on. We can already think that the sentiment analysis will be positive in the most of cases. Regarding the information on the countries we can see that the most of tweets are sent  from United States, Philippines, United Kingdom and South Africa."
    },
    {
      "metadata": {
        "_uuid": "16b40bca098fb1d510c77dd4faee54d4151de536",
        "_cell_guid": "206395ff-4619-4f6d-b210-6f866b0f39a8"
      },
      "cell_type": "markdown",
      "source": "> # 3. Tweet's source"
    },
    {
      "metadata": {
        "_uuid": "98f6facb2bfe399f90f5338441f4e026d5eb8669",
        "_cell_guid": "92aadb3c-8f5c-49e2-b91c-f6672c5be25b"
      },
      "cell_type": "markdown",
      "source": "In this third part we are going to check the source of the tweets. And by the source I mean the device and the location. The purpose is to see the repartition of the tweet by deveice. As usual the first is the cleaning. The kind of device is situated at the end in the column \"source\". With the following example we can see that the device is just before \"/a>\"."
    },
    {
      "metadata": {
        "_uuid": "4ba8646c2212d23fe4d2c8d9d75d1f7404bbdd1e",
        "_cell_guid": "b9448749-ae7d-4e1f-9c87-381cb41aedff",
        "trusted": false,
        "collapsed": true
      },
      "cell_type": "code",
      "source": "tweets['source'][2]",
      "execution_count": null,
      "outputs": []
    },
    {
      "metadata": {
        "_uuid": "102df8ca5bbb7c60d281f1c22279b72434cfddbb",
        "_cell_guid": "4de1f4c1-a077-da8b-937c-36306e92419a",
        "collapsed": true,
        "trusted": false
      },
      "cell_type": "code",
      "source": "tweets['source_new'] = ''\n\nfor i in range(len(tweets['source'])):\n    m = re.search('(?<=>)(.*)', tweets['source'][i])\n    try:\n        tweets['source_new'][i]=m.group(0)\n    except AttributeError:\n        tweets['source_new'][i]=tweets['source'][i]\n        \ntweets['source_new'] = tweets['source_new'].str.replace('</a>', ' ', case=False)",
      "execution_count": null,
      "outputs": []
    },
    {
      "metadata": {
        "_uuid": "ece2fc19ac2f7426999c658cc9c28867bc73fea2",
        "_cell_guid": "1ca586f6-4542-4bac-aabb-d475772cced1"
      },
      "cell_type": "markdown",
      "source": "We are going to create another column which will contain the source cleaned. Here the top five of the column \"source_new\"."
    },
    {
      "metadata": {
        "_uuid": "7897ad8b04a3d0c84c951cf184da68ed6e695e83",
        "_cell_guid": "2bff7c3d-3f68-c1a1-7b51-60fcfcbaa783",
        "trusted": false,
        "collapsed": true
      },
      "cell_type": "code",
      "source": "tweets['source_new'].head()",
      "execution_count": null,
      "outputs": []
    },
    {
      "metadata": {
        "_uuid": "fc8b609eff059d6c3abcbc0af754eaf21a2f9bc9",
        "_cell_guid": "7ef87fd9-c6fa-4609-844d-c9c530d65f2c"
      },
      "cell_type": "markdown",
      "source": "What we interest us is the number of tweet by source. With the following lines we are going to compute this indicator."
    },
    {
      "metadata": {
        "_uuid": "7bdf435af93cf9729d7ea3ef4cdfb91f49e538ba",
        "_cell_guid": "43ee6ded-3112-72af-00ab-3d411d9e12d0",
        "collapsed": true,
        "trusted": false
      },
      "cell_type": "code",
      "source": "tweets_by_type = tweets.groupby(['source_new'])['followers_count'].sum()",
      "execution_count": null,
      "outputs": []
    },
    {
      "metadata": {
        "_uuid": "48c291e8b06de6a370d4ec97bd436717513cd2ea",
        "_cell_guid": "b1636bbc-106c-0bbe-07d7-e843a4b205b8",
        "trusted": false,
        "collapsed": true
      },
      "cell_type": "code",
      "source": "plt.title('Number of followers by Source', bbox={'facecolor':'0.8', 'pad':0})\ntweets_by_type.transpose().plot(kind='bar',figsize=(20, 10))",
      "execution_count": null,
      "outputs": []
    },
    {
      "metadata": {
        "_uuid": "a651b16ff8ea880e1d786ad71c6d5af67f836e88",
        "_cell_guid": "833f7a29-2f55-03fb-b3c1-301bd1226bd7",
        "trusted": false,
        "collapsed": true
      },
      "cell_type": "code",
      "source": "tweets['source_new2'] = ''\n\nfor i in range(len(tweets['source_new'])):\n    if tweets['source_new'][i] not in ['Twitter for Android ','Instagram ','Twitter Web Client ','Twitter for iPhone ']:\n        tweets['source_new2'][i] = 'Others'\n    else:\n        tweets['source_new2'][i] = tweets['source_new'][i] \n\ntweets_by_type2 = tweets.groupby(['source_new2'])['followers_count'].sum()\n\ntweets_by_type2.rename(\"\",inplace=True)\nexplode = (1, 0, 0, 0, 0)\ntweets_by_type2.transpose().plot(kind='pie',figsize=(20, 15),autopct='%1.1f%%',shadow=True,explode=explode)\nplt.legend(bbox_to_anchor=(1, 1), loc=6, borderaxespad=0.)\nplt.title('Number of followers by Source bis', bbox={'facecolor':'0.8', 'pad':5})",
      "execution_count": null,
      "outputs": []
    },
    {
      "metadata": {
        "_uuid": "73197f0421f848869534342a6b28ce0b6b2c256a",
        "_cell_guid": "ad53c83b-056f-4b79-997a-4cb434df7087"
      },
      "cell_type": "markdown",
      "source": "These charts show us that the most important part of the tweet are sent through Iphone, Android and Webclient. And only 7% by Instagram and other devices. Now we are going to interest in the information of the localisation: longitude and latitude. To display this information through a visualisation we are going to use \"Basemap\". Each red point correspond to a location. "
    },
    {
      "metadata": {
        "_uuid": "4b44b6dfadf6d6c2227f93eef6c4d9dfa875d4ef",
        "_cell_guid": "1aeeb1f8-c825-03ad-1a40-be626ac4be95",
        "trusted": false,
        "collapsed": true
      },
      "cell_type": "code",
      "source": "plt.figure( figsize=(20,10), facecolor='k')\nm = Basemap(projection='mill',resolution=None,llcrnrlat=-90,urcrnrlat=90,llcrnrlon=-180,urcrnrlon=180)\nm.etopo()\nxpt,ypt = m(np.array(tweets['place_lon']),np.array(tweets['place_lat']))\nlon,lat = m(xpt,ypt,inverse=True)\nm.plot(xpt,ypt,'ro',markersize=np.sqrt(5)) \nplt.title('Repartition on the globe', bbox={'facecolor':'0.8', 'pad':3})\nplt.show()",
      "execution_count": null,
      "outputs": []
    },
    {
      "metadata": {
        "_uuid": "1b38552bdd1cf0fe297c369924bc15c2b1144823",
        "_cell_guid": "db7bb9dc-9fc1-4bce-bbb3-52ea63c66035"
      },
      "cell_type": "markdown",
      "source": "# 4. Sentiment Analysis"
    },
    {
      "metadata": {
        "_uuid": "869e5eee114f478589d13dea31db217082aab955",
        "_cell_guid": "2cadc10e-e430-4a09-adb4-c73c7fab3763"
      },
      "cell_type": "markdown",
      "source": "Throughout last part we are going to do an sentiment analysis.  The objective is to class by type th tweets. We are going to distingush 3 kind of tweets according to their polarity score. We will have the positive tweets, the neutral tweets and the negative tweets."
    },
    {
      "metadata": {
        "_uuid": "85d95b4f3d559d1c689475791ce7a1348422be1d",
        "_cell_guid": "5b9f347b-d2c2-a3b5-ed67-3648d85611de",
        "collapsed": true,
        "trusted": false
      },
      "cell_type": "code",
      "source": "tweets['text_lem'] = [''.join([WordNetLemmatizer().lemmatize(re.sub('[^A-Za-z]', ' ', line)) for line in lists]).strip() for lists in tweets['text']]       \nvectorizer = TfidfVectorizer(max_df=0.5,max_features=10000,min_df=10,stop_words='english',use_idf=True)\nX = vectorizer.fit_transform(tweets['text_lem'].str.upper())",
      "execution_count": null,
      "outputs": []
    },
    {
      "metadata": {
        "_uuid": "06b0b12acd24a3a5312d23a532a85bb5882843dc",
        "_cell_guid": "e925c1da-216d-4cb2-7684-5c48a3d82d2c",
        "trusted": false,
        "collapsed": true
      },
      "cell_type": "code",
      "source": "sid = SentimentIntensityAnalyzer()\ntweets['sentiment_compound_polarity']=tweets.text_lem.apply(lambda x:sid.polarity_scores(x)['compound'])\ntweets['sentiment_neutral']=tweets.text_lem.apply(lambda x:sid.polarity_scores(x)['neu'])\ntweets['sentiment_negative']=tweets.text_lem.apply(lambda x:sid.polarity_scores(x)['neg'])\ntweets['sentiment_pos']=tweets.text_lem.apply(lambda x:sid.polarity_scores(x)['pos'])\ntweets['sentiment_type']=''\ntweets.loc[tweets.sentiment_compound_polarity>0,'sentiment_type']='POSITIVE'\ntweets.loc[tweets.sentiment_compound_polarity==0,'sentiment_type']='NEUTRAL'\ntweets.loc[tweets.sentiment_compound_polarity<0,'sentiment_type']='NEGATIVE'",
      "execution_count": null,
      "outputs": []
    },
    {
      "metadata": {
        "_uuid": "e0b651f148ff86c642f3abb40062164bfbf29547",
        "_cell_guid": "38b45bbf-4a6a-463d-851e-74400e5d4eb4"
      },
      "cell_type": "markdown",
      "source": "As we guessed the most of tweets are positive. We just can see 1.8% negative tweets.  "
    },
    {
      "metadata": {
        "_uuid": "0adc102b5d20ef107a2f64fa181661a71dc5dad7",
        "_cell_guid": "98759318-d6c7-71d5-ae68-0e5591dd71f2",
        "trusted": false,
        "collapsed": true
      },
      "cell_type": "code",
      "source": "tweets_sentiment = tweets.groupby(['sentiment_type'])['sentiment_neutral'].count()\ntweets_sentiment.rename(\"\",inplace=True)\nexplode = (1, 0, 0)\nplt.subplot(221)\ntweets_sentiment.transpose().plot(kind='barh',figsize=(20, 20))\nplt.title('Sentiment Analysis 1', bbox={'facecolor':'0.8', 'pad':0})\nplt.subplot(222)\ntweets_sentiment.plot(kind='pie',figsize=(20, 20),autopct='%1.1f%%',shadow=True,explode=explode)\nplt.legend(bbox_to_anchor=(1, 1), loc=3, borderaxespad=0.)\nplt.title('Sentiment Analysis 2', bbox={'facecolor':'0.8', 'pad':0})\nplt.show()",
      "execution_count": null,
      "outputs": []
    },
    {
      "metadata": {
        "_uuid": "3c036ee55e1b1b8a5bf430010fe4698ccb79ba20",
        "_cell_guid": "3d0c4917-c129-41e6-a824-e86303952b14"
      },
      "cell_type": "markdown",
      "source": "To conclude you can see the non comprehensive list of tweets which are considered negative. it will be interested to identify the words which contribute to put a negative sentiment.****"
    },
    {
      "metadata": {
        "_uuid": "ada31c5284982715bc791efe911e63130f9885a2",
        "_cell_guid": "e1a4544e-ac41-4771-9171-e52a2eafc370",
        "trusted": false,
        "collapsed": true
      },
      "cell_type": "code",
      "source": "tweets[tweets.sentiment_type == 'NEGATIVE'].text.reset_index(drop = True)[0:5]",
      "execution_count": null,
      "outputs": []
    }
  ],
  "metadata": {
    "kernelspec": {
      "display_name": "Python 3",
      "language": "python",
      "name": "python3"
    },
    "_change_revision": 0,
    "_is_fork": false,
    "language_info": {
      "name": "python",
      "version": "3.6.4",
      "mimetype": "text/x-python",
      "codemirror_mode": {
        "name": "ipython",
        "version": 3
      },
      "pygments_lexer": "ipython3",
      "nbconvert_exporter": "python",
      "file_extension": ".py"
    }
  },
  "nbformat": 4,
  "nbformat_minor": 1
}